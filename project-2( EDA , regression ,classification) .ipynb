{
 "cells": [
  {
   "cell_type": "markdown",
   "metadata": {},
   "source": [
    "### Load the test and training set.\n",
    "\n"
   ]
  },
  {
   "cell_type": "code",
   "execution_count": 39,
   "metadata": {},
   "outputs": [],
   "source": [
    "\n",
    "import numpy as np\n",
    "import pandas as pd\n",
    "import scipy.stats as stats\n",
    "import matplotlib.pyplot as plt\n",
    "import seaborn as sns\n",
    "import math\n",
    "\n",
    "from sklearn.model_selection import train_test_split, cross_val_score, GridSearchCV, RandomizedSearchCV\n",
    "from sklearn.linear_model import ElasticNetCV, LassoCV, RidgeCV, Lasso\n",
    "from sklearn.neighbors import KNeighborsClassifier\n",
    "from sklearn import preprocessing\n",
    "from sklearn.preprocessing import StandardScaler, PolynomialFeatures, FunctionTransformer, Imputer\n",
    "from sklearn.pipeline import Pipeline, FeatureUnion # These ones are new!\n",
    "\n",
    "sns.set_style('darkgrid')\n",
    "\n",
    "%matplotlib inline"
   ]
  },
  {
   "cell_type": "code",
   "execution_count": 40,
   "metadata": {},
   "outputs": [],
   "source": [
    "#read in the data\n",
    "test = pd.read_csv('/Users/ohoudaziz/desktop/project-2/test.csv')\n",
    "train = pd.read_csv('/Users/ohoudaziz/desktop/project-2/train.csv')"
   ]
  },
  {
   "cell_type": "code",
   "execution_count": 41,
   "metadata": {
    "scrolled": false
   },
   "outputs": [
    {
     "data": {
      "text/html": [
       "<div>\n",
       "<style scoped>\n",
       "    .dataframe tbody tr th:only-of-type {\n",
       "        vertical-align: middle;\n",
       "    }\n",
       "\n",
       "    .dataframe tbody tr th {\n",
       "        vertical-align: top;\n",
       "    }\n",
       "\n",
       "    .dataframe thead th {\n",
       "        text-align: right;\n",
       "    }\n",
       "</style>\n",
       "<table border=\"1\" class=\"dataframe\">\n",
       "  <thead>\n",
       "    <tr style=\"text-align: right;\">\n",
       "      <th></th>\n",
       "      <th>Id</th>\n",
       "      <th>PID</th>\n",
       "      <th>MS SubClass</th>\n",
       "      <th>MS Zoning</th>\n",
       "      <th>Lot Frontage</th>\n",
       "      <th>Lot Area</th>\n",
       "      <th>Street</th>\n",
       "      <th>Alley</th>\n",
       "      <th>Lot Shape</th>\n",
       "      <th>Land Contour</th>\n",
       "      <th>...</th>\n",
       "      <th>Pool Area</th>\n",
       "      <th>Pool QC</th>\n",
       "      <th>Fence</th>\n",
       "      <th>Misc Feature</th>\n",
       "      <th>Misc Val</th>\n",
       "      <th>Mo Sold</th>\n",
       "      <th>Yr Sold</th>\n",
       "      <th>Sale Type</th>\n",
       "      <th>Sale Condition</th>\n",
       "      <th>SalePrice</th>\n",
       "    </tr>\n",
       "  </thead>\n",
       "  <tbody>\n",
       "    <tr>\n",
       "      <th>0</th>\n",
       "      <td>109</td>\n",
       "      <td>533352170</td>\n",
       "      <td>60</td>\n",
       "      <td>RL</td>\n",
       "      <td>NaN</td>\n",
       "      <td>13517</td>\n",
       "      <td>Pave</td>\n",
       "      <td>NaN</td>\n",
       "      <td>IR1</td>\n",
       "      <td>Lvl</td>\n",
       "      <td>...</td>\n",
       "      <td>0</td>\n",
       "      <td>NaN</td>\n",
       "      <td>NaN</td>\n",
       "      <td>NaN</td>\n",
       "      <td>0</td>\n",
       "      <td>3</td>\n",
       "      <td>2010</td>\n",
       "      <td>WD</td>\n",
       "      <td>Normal</td>\n",
       "      <td>130500</td>\n",
       "    </tr>\n",
       "    <tr>\n",
       "      <th>1</th>\n",
       "      <td>544</td>\n",
       "      <td>531379050</td>\n",
       "      <td>60</td>\n",
       "      <td>RL</td>\n",
       "      <td>43.0</td>\n",
       "      <td>11492</td>\n",
       "      <td>Pave</td>\n",
       "      <td>NaN</td>\n",
       "      <td>IR1</td>\n",
       "      <td>Lvl</td>\n",
       "      <td>...</td>\n",
       "      <td>0</td>\n",
       "      <td>NaN</td>\n",
       "      <td>NaN</td>\n",
       "      <td>NaN</td>\n",
       "      <td>0</td>\n",
       "      <td>4</td>\n",
       "      <td>2009</td>\n",
       "      <td>WD</td>\n",
       "      <td>Normal</td>\n",
       "      <td>220000</td>\n",
       "    </tr>\n",
       "    <tr>\n",
       "      <th>2</th>\n",
       "      <td>153</td>\n",
       "      <td>535304180</td>\n",
       "      <td>20</td>\n",
       "      <td>RL</td>\n",
       "      <td>68.0</td>\n",
       "      <td>7922</td>\n",
       "      <td>Pave</td>\n",
       "      <td>NaN</td>\n",
       "      <td>Reg</td>\n",
       "      <td>Lvl</td>\n",
       "      <td>...</td>\n",
       "      <td>0</td>\n",
       "      <td>NaN</td>\n",
       "      <td>NaN</td>\n",
       "      <td>NaN</td>\n",
       "      <td>0</td>\n",
       "      <td>1</td>\n",
       "      <td>2010</td>\n",
       "      <td>WD</td>\n",
       "      <td>Abnorml</td>\n",
       "      <td>109000</td>\n",
       "    </tr>\n",
       "    <tr>\n",
       "      <th>3</th>\n",
       "      <td>318</td>\n",
       "      <td>916386060</td>\n",
       "      <td>60</td>\n",
       "      <td>RL</td>\n",
       "      <td>73.0</td>\n",
       "      <td>9802</td>\n",
       "      <td>Pave</td>\n",
       "      <td>NaN</td>\n",
       "      <td>Reg</td>\n",
       "      <td>Lvl</td>\n",
       "      <td>...</td>\n",
       "      <td>0</td>\n",
       "      <td>NaN</td>\n",
       "      <td>NaN</td>\n",
       "      <td>NaN</td>\n",
       "      <td>0</td>\n",
       "      <td>4</td>\n",
       "      <td>2010</td>\n",
       "      <td>WD</td>\n",
       "      <td>Normal</td>\n",
       "      <td>174000</td>\n",
       "    </tr>\n",
       "    <tr>\n",
       "      <th>4</th>\n",
       "      <td>255</td>\n",
       "      <td>906425045</td>\n",
       "      <td>50</td>\n",
       "      <td>RL</td>\n",
       "      <td>82.0</td>\n",
       "      <td>14235</td>\n",
       "      <td>Pave</td>\n",
       "      <td>NaN</td>\n",
       "      <td>IR1</td>\n",
       "      <td>Lvl</td>\n",
       "      <td>...</td>\n",
       "      <td>0</td>\n",
       "      <td>NaN</td>\n",
       "      <td>NaN</td>\n",
       "      <td>NaN</td>\n",
       "      <td>0</td>\n",
       "      <td>3</td>\n",
       "      <td>2010</td>\n",
       "      <td>WD</td>\n",
       "      <td>Normal</td>\n",
       "      <td>138500</td>\n",
       "    </tr>\n",
       "  </tbody>\n",
       "</table>\n",
       "<p>5 rows × 82 columns</p>\n",
       "</div>"
      ],
      "text/plain": [
       "    Id        PID  MS SubClass MS Zoning  Lot Frontage  Lot Area Street Alley  \\\n",
       "0  109  533352170           60        RL           NaN     13517   Pave   NaN   \n",
       "1  544  531379050           60        RL          43.0     11492   Pave   NaN   \n",
       "2  153  535304180           20        RL          68.0      7922   Pave   NaN   \n",
       "3  318  916386060           60        RL          73.0      9802   Pave   NaN   \n",
       "4  255  906425045           50        RL          82.0     14235   Pave   NaN   \n",
       "\n",
       "  Lot Shape Land Contour    ...     Pool Area Pool QC Fence Misc Feature  \\\n",
       "0       IR1          Lvl    ...             0     NaN   NaN          NaN   \n",
       "1       IR1          Lvl    ...             0     NaN   NaN          NaN   \n",
       "2       Reg          Lvl    ...             0     NaN   NaN          NaN   \n",
       "3       Reg          Lvl    ...             0     NaN   NaN          NaN   \n",
       "4       IR1          Lvl    ...             0     NaN   NaN          NaN   \n",
       "\n",
       "  Misc Val Mo Sold Yr Sold Sale Type  Sale Condition  SalePrice  \n",
       "0        0       3    2010       WD           Normal     130500  \n",
       "1        0       4    2009       WD           Normal     220000  \n",
       "2        0       1    2010       WD          Abnorml     109000  \n",
       "3        0       4    2010       WD           Normal     174000  \n",
       "4        0       3    2010       WD           Normal     138500  \n",
       "\n",
       "[5 rows x 82 columns]"
      ]
     },
     "execution_count": 41,
     "metadata": {},
     "output_type": "execute_result"
    }
   ],
   "source": [
    "train.head()"
   ]
  },
  {
   "cell_type": "markdown",
   "metadata": {},
   "source": [
    "## EDA"
   ]
  },
  {
   "cell_type": "code",
   "execution_count": 42,
   "metadata": {},
   "outputs": [
    {
     "name": "stdout",
     "output_type": "stream",
     "text": [
      " train dataset has 2051 rows and 82 columns.\n",
      " test dataset has 879 rows and 80 columns.\n"
     ]
    }
   ],
   "source": [
    "print(' train dataset has {} rows and {} columns.'.format(train.shape[0], train.shape[1]))\n",
    "print(' test dataset has {} rows and {} columns.'.format(test.shape[0], test.shape[1]))"
   ]
  },
  {
   "cell_type": "code",
   "execution_count": 43,
   "metadata": {},
   "outputs": [
    {
     "data": {
      "text/html": [
       "<div>\n",
       "<style scoped>\n",
       "    .dataframe tbody tr th:only-of-type {\n",
       "        vertical-align: middle;\n",
       "    }\n",
       "\n",
       "    .dataframe tbody tr th {\n",
       "        vertical-align: top;\n",
       "    }\n",
       "\n",
       "    .dataframe thead th {\n",
       "        text-align: right;\n",
       "    }\n",
       "</style>\n",
       "<table border=\"1\" class=\"dataframe\">\n",
       "  <thead>\n",
       "    <tr style=\"text-align: right;\">\n",
       "      <th></th>\n",
       "      <th>Id</th>\n",
       "      <th>PID</th>\n",
       "      <th>MS SubClass</th>\n",
       "      <th>Lot Frontage</th>\n",
       "      <th>Lot Area</th>\n",
       "      <th>Overall Qual</th>\n",
       "      <th>Overall Cond</th>\n",
       "      <th>Year Built</th>\n",
       "      <th>Year Remod/Add</th>\n",
       "      <th>Mas Vnr Area</th>\n",
       "      <th>...</th>\n",
       "      <th>Wood Deck SF</th>\n",
       "      <th>Open Porch SF</th>\n",
       "      <th>Enclosed Porch</th>\n",
       "      <th>3Ssn Porch</th>\n",
       "      <th>Screen Porch</th>\n",
       "      <th>Pool Area</th>\n",
       "      <th>Misc Val</th>\n",
       "      <th>Mo Sold</th>\n",
       "      <th>Yr Sold</th>\n",
       "      <th>SalePrice</th>\n",
       "    </tr>\n",
       "  </thead>\n",
       "  <tbody>\n",
       "    <tr>\n",
       "      <th>count</th>\n",
       "      <td>2051.000000</td>\n",
       "      <td>2.051000e+03</td>\n",
       "      <td>2051.000000</td>\n",
       "      <td>1721.000000</td>\n",
       "      <td>2051.000000</td>\n",
       "      <td>2051.000000</td>\n",
       "      <td>2051.000000</td>\n",
       "      <td>2051.000000</td>\n",
       "      <td>2051.000000</td>\n",
       "      <td>2029.000000</td>\n",
       "      <td>...</td>\n",
       "      <td>2051.000000</td>\n",
       "      <td>2051.000000</td>\n",
       "      <td>2051.000000</td>\n",
       "      <td>2051.000000</td>\n",
       "      <td>2051.000000</td>\n",
       "      <td>2051.000000</td>\n",
       "      <td>2051.000000</td>\n",
       "      <td>2051.000000</td>\n",
       "      <td>2051.000000</td>\n",
       "      <td>2051.000000</td>\n",
       "    </tr>\n",
       "    <tr>\n",
       "      <th>mean</th>\n",
       "      <td>1474.033642</td>\n",
       "      <td>7.135900e+08</td>\n",
       "      <td>57.008776</td>\n",
       "      <td>69.055200</td>\n",
       "      <td>10065.208191</td>\n",
       "      <td>6.112140</td>\n",
       "      <td>5.562165</td>\n",
       "      <td>1971.708922</td>\n",
       "      <td>1984.190151</td>\n",
       "      <td>99.695909</td>\n",
       "      <td>...</td>\n",
       "      <td>93.833740</td>\n",
       "      <td>47.556802</td>\n",
       "      <td>22.571916</td>\n",
       "      <td>2.591419</td>\n",
       "      <td>16.511458</td>\n",
       "      <td>2.397855</td>\n",
       "      <td>51.574354</td>\n",
       "      <td>6.219893</td>\n",
       "      <td>2007.775719</td>\n",
       "      <td>181469.701609</td>\n",
       "    </tr>\n",
       "    <tr>\n",
       "      <th>std</th>\n",
       "      <td>843.980841</td>\n",
       "      <td>1.886918e+08</td>\n",
       "      <td>42.824223</td>\n",
       "      <td>23.260653</td>\n",
       "      <td>6742.488909</td>\n",
       "      <td>1.426271</td>\n",
       "      <td>1.104497</td>\n",
       "      <td>30.177889</td>\n",
       "      <td>21.036250</td>\n",
       "      <td>174.963129</td>\n",
       "      <td>...</td>\n",
       "      <td>128.549416</td>\n",
       "      <td>66.747241</td>\n",
       "      <td>59.845110</td>\n",
       "      <td>25.229615</td>\n",
       "      <td>57.374204</td>\n",
       "      <td>37.782570</td>\n",
       "      <td>573.393985</td>\n",
       "      <td>2.744736</td>\n",
       "      <td>1.312014</td>\n",
       "      <td>79258.659352</td>\n",
       "    </tr>\n",
       "    <tr>\n",
       "      <th>min</th>\n",
       "      <td>1.000000</td>\n",
       "      <td>5.263011e+08</td>\n",
       "      <td>20.000000</td>\n",
       "      <td>21.000000</td>\n",
       "      <td>1300.000000</td>\n",
       "      <td>1.000000</td>\n",
       "      <td>1.000000</td>\n",
       "      <td>1872.000000</td>\n",
       "      <td>1950.000000</td>\n",
       "      <td>0.000000</td>\n",
       "      <td>...</td>\n",
       "      <td>0.000000</td>\n",
       "      <td>0.000000</td>\n",
       "      <td>0.000000</td>\n",
       "      <td>0.000000</td>\n",
       "      <td>0.000000</td>\n",
       "      <td>0.000000</td>\n",
       "      <td>0.000000</td>\n",
       "      <td>1.000000</td>\n",
       "      <td>2006.000000</td>\n",
       "      <td>12789.000000</td>\n",
       "    </tr>\n",
       "    <tr>\n",
       "      <th>25%</th>\n",
       "      <td>753.500000</td>\n",
       "      <td>5.284581e+08</td>\n",
       "      <td>20.000000</td>\n",
       "      <td>58.000000</td>\n",
       "      <td>7500.000000</td>\n",
       "      <td>5.000000</td>\n",
       "      <td>5.000000</td>\n",
       "      <td>1953.500000</td>\n",
       "      <td>1964.500000</td>\n",
       "      <td>0.000000</td>\n",
       "      <td>...</td>\n",
       "      <td>0.000000</td>\n",
       "      <td>0.000000</td>\n",
       "      <td>0.000000</td>\n",
       "      <td>0.000000</td>\n",
       "      <td>0.000000</td>\n",
       "      <td>0.000000</td>\n",
       "      <td>0.000000</td>\n",
       "      <td>4.000000</td>\n",
       "      <td>2007.000000</td>\n",
       "      <td>129825.000000</td>\n",
       "    </tr>\n",
       "    <tr>\n",
       "      <th>50%</th>\n",
       "      <td>1486.000000</td>\n",
       "      <td>5.354532e+08</td>\n",
       "      <td>50.000000</td>\n",
       "      <td>68.000000</td>\n",
       "      <td>9430.000000</td>\n",
       "      <td>6.000000</td>\n",
       "      <td>5.000000</td>\n",
       "      <td>1974.000000</td>\n",
       "      <td>1993.000000</td>\n",
       "      <td>0.000000</td>\n",
       "      <td>...</td>\n",
       "      <td>0.000000</td>\n",
       "      <td>27.000000</td>\n",
       "      <td>0.000000</td>\n",
       "      <td>0.000000</td>\n",
       "      <td>0.000000</td>\n",
       "      <td>0.000000</td>\n",
       "      <td>0.000000</td>\n",
       "      <td>6.000000</td>\n",
       "      <td>2008.000000</td>\n",
       "      <td>162500.000000</td>\n",
       "    </tr>\n",
       "    <tr>\n",
       "      <th>75%</th>\n",
       "      <td>2198.000000</td>\n",
       "      <td>9.071801e+08</td>\n",
       "      <td>70.000000</td>\n",
       "      <td>80.000000</td>\n",
       "      <td>11513.500000</td>\n",
       "      <td>7.000000</td>\n",
       "      <td>6.000000</td>\n",
       "      <td>2001.000000</td>\n",
       "      <td>2004.000000</td>\n",
       "      <td>161.000000</td>\n",
       "      <td>...</td>\n",
       "      <td>168.000000</td>\n",
       "      <td>70.000000</td>\n",
       "      <td>0.000000</td>\n",
       "      <td>0.000000</td>\n",
       "      <td>0.000000</td>\n",
       "      <td>0.000000</td>\n",
       "      <td>0.000000</td>\n",
       "      <td>8.000000</td>\n",
       "      <td>2009.000000</td>\n",
       "      <td>214000.000000</td>\n",
       "    </tr>\n",
       "    <tr>\n",
       "      <th>max</th>\n",
       "      <td>2930.000000</td>\n",
       "      <td>9.241520e+08</td>\n",
       "      <td>190.000000</td>\n",
       "      <td>313.000000</td>\n",
       "      <td>159000.000000</td>\n",
       "      <td>10.000000</td>\n",
       "      <td>9.000000</td>\n",
       "      <td>2010.000000</td>\n",
       "      <td>2010.000000</td>\n",
       "      <td>1600.000000</td>\n",
       "      <td>...</td>\n",
       "      <td>1424.000000</td>\n",
       "      <td>547.000000</td>\n",
       "      <td>432.000000</td>\n",
       "      <td>508.000000</td>\n",
       "      <td>490.000000</td>\n",
       "      <td>800.000000</td>\n",
       "      <td>17000.000000</td>\n",
       "      <td>12.000000</td>\n",
       "      <td>2010.000000</td>\n",
       "      <td>611657.000000</td>\n",
       "    </tr>\n",
       "  </tbody>\n",
       "</table>\n",
       "<p>8 rows × 39 columns</p>\n",
       "</div>"
      ],
      "text/plain": [
       "                Id           PID  MS SubClass  Lot Frontage       Lot Area  \\\n",
       "count  2051.000000  2.051000e+03  2051.000000   1721.000000    2051.000000   \n",
       "mean   1474.033642  7.135900e+08    57.008776     69.055200   10065.208191   \n",
       "std     843.980841  1.886918e+08    42.824223     23.260653    6742.488909   \n",
       "min       1.000000  5.263011e+08    20.000000     21.000000    1300.000000   \n",
       "25%     753.500000  5.284581e+08    20.000000     58.000000    7500.000000   \n",
       "50%    1486.000000  5.354532e+08    50.000000     68.000000    9430.000000   \n",
       "75%    2198.000000  9.071801e+08    70.000000     80.000000   11513.500000   \n",
       "max    2930.000000  9.241520e+08   190.000000    313.000000  159000.000000   \n",
       "\n",
       "       Overall Qual  Overall Cond   Year Built  Year Remod/Add  Mas Vnr Area  \\\n",
       "count   2051.000000   2051.000000  2051.000000     2051.000000   2029.000000   \n",
       "mean       6.112140      5.562165  1971.708922     1984.190151     99.695909   \n",
       "std        1.426271      1.104497    30.177889       21.036250    174.963129   \n",
       "min        1.000000      1.000000  1872.000000     1950.000000      0.000000   \n",
       "25%        5.000000      5.000000  1953.500000     1964.500000      0.000000   \n",
       "50%        6.000000      5.000000  1974.000000     1993.000000      0.000000   \n",
       "75%        7.000000      6.000000  2001.000000     2004.000000    161.000000   \n",
       "max       10.000000      9.000000  2010.000000     2010.000000   1600.000000   \n",
       "\n",
       "           ...        Wood Deck SF  Open Porch SF  Enclosed Porch  \\\n",
       "count      ...         2051.000000    2051.000000     2051.000000   \n",
       "mean       ...           93.833740      47.556802       22.571916   \n",
       "std        ...          128.549416      66.747241       59.845110   \n",
       "min        ...            0.000000       0.000000        0.000000   \n",
       "25%        ...            0.000000       0.000000        0.000000   \n",
       "50%        ...            0.000000      27.000000        0.000000   \n",
       "75%        ...          168.000000      70.000000        0.000000   \n",
       "max        ...         1424.000000     547.000000      432.000000   \n",
       "\n",
       "        3Ssn Porch  Screen Porch    Pool Area      Misc Val      Mo Sold  \\\n",
       "count  2051.000000   2051.000000  2051.000000   2051.000000  2051.000000   \n",
       "mean      2.591419     16.511458     2.397855     51.574354     6.219893   \n",
       "std      25.229615     57.374204    37.782570    573.393985     2.744736   \n",
       "min       0.000000      0.000000     0.000000      0.000000     1.000000   \n",
       "25%       0.000000      0.000000     0.000000      0.000000     4.000000   \n",
       "50%       0.000000      0.000000     0.000000      0.000000     6.000000   \n",
       "75%       0.000000      0.000000     0.000000      0.000000     8.000000   \n",
       "max     508.000000    490.000000   800.000000  17000.000000    12.000000   \n",
       "\n",
       "           Yr Sold      SalePrice  \n",
       "count  2051.000000    2051.000000  \n",
       "mean   2007.775719  181469.701609  \n",
       "std       1.312014   79258.659352  \n",
       "min    2006.000000   12789.000000  \n",
       "25%    2007.000000  129825.000000  \n",
       "50%    2008.000000  162500.000000  \n",
       "75%    2009.000000  214000.000000  \n",
       "max    2010.000000  611657.000000  \n",
       "\n",
       "[8 rows x 39 columns]"
      ]
     },
     "execution_count": 43,
     "metadata": {},
     "output_type": "execute_result"
    }
   ],
   "source": [
    "train.describe()"
   ]
  },
  {
   "cell_type": "code",
   "execution_count": 44,
   "metadata": {
    "scrolled": true
   },
   "outputs": [
    {
     "name": "stdout",
     "output_type": "stream",
     "text": [
      "The cheapest house sold for $12,789 and the most expensive for $611,657\n",
      "The average sales price is $181,470, while median is $162,500\n"
     ]
    },
    {
     "data": {
      "image/png": "[encoded data removed]",
      "text/plain": [
       "<Figure size 1008x288 with 1 Axes>"
      ]
     },
     "metadata": {},
     "output_type": "display_data"
    }
   ],
   "source": [
    "# How expensive are houses?\n",
    "print('The cheapest house sold for ${:,.0f} and the most expensive for ${:,.0f}'.format(\n",
    "    train.SalePrice.min(), train.SalePrice.max()))\n",
    "print('The average sales price is ${:,.0f}, while median is ${:,.0f}'.format(\n",
    "    train.SalePrice.mean(), train.SalePrice.median()))\n",
    "train.SalePrice.hist(bins=75, rwidth=.8, figsize=(14,4))\n",
    "plt.title('How expensive are houses?')\n",
    "plt.show()"
   ]
  },
  {
   "cell_type": "code",
   "execution_count": 45,
   "metadata": {
    "scrolled": true
   },
   "outputs": [
    {
     "name": "stderr",
     "output_type": "stream",
     "text": [
      "/Users/ohoudaziz/anaconda3/lib/python3.6/site-packages/pandas/core/indexing.py:189: SettingWithCopyWarning: \n",
      "A value is trying to be set on a copy of a slice from a DataFrame\n",
      "\n",
      "See the caveats in the documentation: http://pandas.pydata.org/pandas-docs/stable/indexing.html#indexing-view-versus-copy\n",
      "  self._setitem_with_indexer(indexer, value)\n"
     ]
    }
   ],
   "source": [
    "def data_cleaning(df):\n",
    "    for column in df.columns:\n",
    "        df.rename(columns={column: column.replace(' ', '')}, inplace=True)\n",
    "        \n",
    "    df['BsmtQual'].loc[df['BsmtQual'].isnull()] = 'NA'\n",
    "    df['BsmtCond'].loc[df['BsmtCond'].isnull()] = 'NA'\n",
    "    df['BsmtFinType1'].loc[df['BsmtFinType1'].isnull()] = 'NA'\n",
    "    df['BsmtFinType2'].loc[df['BsmtFinType2'].isnull()] = 'NA'\n",
    "    df['MiscFeature'].loc[df['MiscFeature'].isnull()] = 'NA'\n",
    "    df['GarageType'].loc[df['GarageArea']==0] = 0\n",
    "\n",
    "    df['GarageQual'].loc[df['GarageArea']==0] = 0\n",
    "    df['GarageCond'].loc[df['GarageArea']==0] = 0\n",
    "\n",
    "    df['GarageQual'].loc[df['GarageArea']!=0] = df['GarageQual'].value_counts().sort_values().index[-1]\n",
    "    df['GarageCond'].loc[df['GarageArea']!=0] = df['GarageQual'].value_counts().sort_values().index[-1]\n",
    "        \n",
    "data_cleaning(train)\n",
    "data_cleaning(test)"
   ]
  },
  {
   "cell_type": "code",
   "execution_count": 46,
   "metadata": {
    "scrolled": true
   },
   "outputs": [
    {
     "data": {
      "image/png": "[encoded data removed]",
      "text/plain": [
       "<Figure size 864x288 with 1 Axes>"
      ]
     },
     "metadata": {},
     "output_type": "display_data"
    },
    {
     "data": {
      "text/plain": [
       "' Oldest house built in 1872. Newest house built in 2010. '"
      ]
     },
     "execution_count": 46,
     "metadata": {},
     "output_type": "execute_result"
    }
   ],
   "source": [
    "train.YearBuilt.hist(bins=14, rwidth=.9, figsize=(12,4))\n",
    "plt.title('When were the houses built?')\n",
    "plt.show()\n",
    "\n",
    "f\" Oldest house built in {train.YearBuilt.min()}. Newest house built in {train.YearBuilt.max()}. \""
   ]
  },
  {
   "cell_type": "code",
   "execution_count": 47,
   "metadata": {
    "scrolled": true
   },
   "outputs": [
    {
     "data": {
      "image/png": "[encoded data removed]",
      "text/plain": [
       "<Figure size 720x576 with 1 Axes>"
      ]
     },
     "metadata": {},
     "output_type": "display_data"
    }
   ],
   "source": [
    "# Where are houses?\n",
    "train.groupby('Neighborhood').Id.count().\\\n",
    "    sort_values().\\\n",
    "    plot(kind='barh', figsize=(10,8))\n",
    "plt.title('What neighborhoods are houses in?')\n",
    "plt.show()"
   ]
  },
  {
   "cell_type": "code",
   "execution_count": 48,
   "metadata": {
    "scrolled": true
   },
   "outputs": [
    {
     "data": {
      "image/png": "[encoded data removed]",
      "text/plain": [
       "<Figure size 1080x360 with 1 Axes>"
      ]
     },
     "metadata": {},
     "output_type": "display_data"
    }
   ],
   "source": [
    "# When where houses sold?\n",
    "train.groupby(['YrSold','MoSold']).Id.count().plot(kind='bar', figsize=(15,5))\n",
    "plt.title('When where houses sold?')\n",
    "\n",
    "plt.show()"
   ]
  },
  {
   "cell_type": "code",
   "execution_count": 49,
   "metadata": {
    "scrolled": false
   },
   "outputs": [
    {
     "name": "stdout",
     "output_type": "stream",
     "text": [
      "The average house has 1,499 sq_ft of space, the median 1,444 sq ft\n",
      "The biggest house has 5,642 sq_ft of space, the smallest 334 sq ft\n"
     ]
    },
    {
     "data": {
      "image/png": "[encoded data removed]",
      "text/plain": [
       "<Figure size 864x288 with 1 Axes>"
      ]
     },
     "metadata": {},
     "output_type": "display_data"
    }
   ],
   "source": [
    "# How big are houses\n",
    "print('The average house has {:,.0f} sq_ft of space, the median {:,.0f} sq ft'.format(\n",
    "    train.GrLivArea.mean(), train.GrLivArea.median()))\n",
    "print('The biggest house has {:,.0f} sq_ft of space, the smallest {:,.0f} sq ft'.format(\n",
    "    train.GrLivArea.max(), train.GrLivArea.min()))\n",
    "train.GrLivArea.hist(bins=21, rwidth=.8, figsize=(12,4))\n",
    "plt.title('How big are houses? (in sq_feet)')\n",
    "plt.show()"
   ]
  },
  {
   "cell_type": "markdown",
   "metadata": {},
   "source": [
    "### How common factors are affecting the price of the houses ?\n"
   ]
  },
  {
   "cell_type": "code",
   "execution_count": 50,
   "metadata": {
    "scrolled": false
   },
   "outputs": [
    {
     "data": {
      "image/png": "[encoded data removed]",
      "text/plain": [
       "<Figure size 432x288 with 1 Axes>"
      ]
     },
     "metadata": {},
     "output_type": "display_data"
    }
   ],
   "source": [
    "plt.scatter(train.SalePrice,train.GrLivArea)\n",
    "plt.title(\"Price vs Sq_Feet\");"
   ]
  },
  {
   "cell_type": "markdown",
   "metadata": {},
   "source": [
    "###  plot above represnt relationship seem strong  between salePric and living area sq_ft "
   ]
  },
  {
   "cell_type": "code",
   "execution_count": 51,
   "metadata": {
    "scrolled": true
   },
   "outputs": [
    {
     "data": {
      "image/png": "[encoded data removed]",
      "text/plain": [
       "<Figure size 1080x720 with 2 Axes>"
      ]
     },
     "metadata": {},
     "output_type": "display_data"
    }
   ],
   "source": [
    "import seaborn as sns\n",
    "f, ax = plt.subplots(figsize=(15, 10));\n",
    "corr = train.corr();\n",
    "sns.heatmap(corr, mask=np.zeros_like(corr, dtype=np.bool), cmap=sns.diverging_palette(220, 10, as_cmap=True),\n",
    "            square=True, ax=ax);"
   ]
  },
  {
   "cell_type": "code",
   "execution_count": 52,
   "metadata": {
    "scrolled": false
   },
   "outputs": [
    {
     "name": "stdout",
     "output_type": "stream",
     "text": [
      "Number of Numerical features:  39\n",
      "Number of Categorical features:  43\n"
     ]
    }
   ],
   "source": [
    "numerical_feats = train.dtypes[train.dtypes != \"object\"].index\n",
    "print(\"Number of Numerical features: \", len(numerical_feats))\n",
    "\n",
    "categorical_feats = train.dtypes[train.dtypes == \"object\"].index\n",
    "print(\"Number of Categorical features: \", len(categorical_feats))"
   ]
  },
  {
   "cell_type": "markdown",
   "metadata": {},
   "source": [
    "### Check datasets for missing values\n"
   ]
  },
  {
   "cell_type": "code",
   "execution_count": 53,
   "metadata": {
    "scrolled": true
   },
   "outputs": [
    {
     "data": {
      "image/png": "[encoded data removed]",
      "text/plain": [
       "<Figure size 1440x720 with 1 Axes>"
      ]
     },
     "metadata": {},
     "output_type": "display_data"
    }
   ],
   "source": [
    "train.isnull().sum().plot(kind=\"bar\",figsize=(20,10));"
   ]
  },
  {
   "cell_type": "code",
   "execution_count": 54,
   "metadata": {},
   "outputs": [
    {
     "data": {
      "text/plain": [
       "Id                  0\n",
       "PID                 0\n",
       "LotFrontage       330\n",
       "LotArea             0\n",
       "Street              0\n",
       "Alley            1908\n",
       "LotShape            0\n",
       "LandContour         0\n",
       "Utilities           0\n",
       "LotConfig           0\n",
       "LandSlope           0\n",
       "Neighborhood        0\n",
       "Condition1          0\n",
       "Condition2          0\n",
       "BldgType            0\n",
       "HouseStyle          0\n",
       "OverallQual         0\n",
       "OverallCond         0\n",
       "YearBuilt           0\n",
       "YearRemod/Add       0\n",
       "RoofStyle           0\n",
       "RoofMatl            0\n",
       "Exterior1st         0\n",
       "Exterior2nd         0\n",
       "MasVnrType         22\n",
       "MasVnrArea         22\n",
       "ExterQual           0\n",
       "ExterCond           0\n",
       "Foundation          0\n",
       "BsmtQual            0\n",
       "                 ... \n",
       "BedroomAbvGr        0\n",
       "KitchenAbvGr        0\n",
       "KitchenQual         0\n",
       "TotRmsAbvGrd        0\n",
       "Functional          0\n",
       "Fireplaces          0\n",
       "FireplaceQu       998\n",
       "GarageType          0\n",
       "GarageYrBlt       113\n",
       "GarageFinish      113\n",
       "GarageCars          0\n",
       "GarageArea          0\n",
       "GarageQual          0\n",
       "GarageCond          0\n",
       "PavedDrive          0\n",
       "WoodDeckSF          0\n",
       "OpenPorchSF         0\n",
       "EnclosedPorch       0\n",
       "3SsnPorch           0\n",
       "ScreenPorch         0\n",
       "PoolArea            0\n",
       "PoolQC           2039\n",
       "Fence            1650\n",
       "MiscFeature         0\n",
       "MiscVal             0\n",
       "MoSold              0\n",
       "YrSold              0\n",
       "SaleType            0\n",
       "SaleCondition       0\n",
       "SalePrice           0\n",
       "Length: 80, dtype: int64"
      ]
     },
     "execution_count": 54,
     "metadata": {},
     "output_type": "execute_result"
    }
   ],
   "source": [
    "train.drop(['MSSubClass', 'MSZoning', ], axis=1, inplace=True)\n",
    "train = train.dropna(subset=['BsmtQual', 'BsmtFinSF1', 'BsmtFinSF2', 'TotalBsmtSF', 'BsmtFullBath', 'GarageCars','BsmtFinType2', 'Electrical'])\n",
    "train.isnull().sum()"
   ]
  },
  {
   "cell_type": "markdown",
   "metadata": {},
   "source": [
    "### convert non numeric to 0,1 (dummeis)"
   ]
  },
  {
   "cell_type": "code",
   "execution_count": 55,
   "metadata": {},
   "outputs": [],
   "source": [
    "def dummie_non_numeric(df):\n",
    "    non_numeric_cols = list(set(df.columns)-set(df._get_numeric_data().sum().index))\n",
    "    dummies = pd.get_dummies(df[non_numeric_cols])\n",
    "    new = pd.concat([df, dummies], axis=1)\n",
    "    return new\n",
    "\n",
    "train = dummie_non_numeric(train)\n",
    "test = dummie_non_numeric(test)"
   ]
  },
  {
   "cell_type": "markdown",
   "metadata": {},
   "source": [
    "### represent the corrolation in each neighborhood with  SalePrice "
   ]
  },
  {
   "cell_type": "code",
   "execution_count": 56,
   "metadata": {
    "scrolled": true
   },
   "outputs": [
    {
     "data": {
      "text/plain": [
       "['Neighborhood_NridgHt',\n",
       " 'Neighborhood_NoRidge',\n",
       " 'Neighborhood_StoneBr',\n",
       " 'Neighborhood_Somerst',\n",
       " 'Neighborhood_Timber',\n",
       " 'Neighborhood_Veenker',\n",
       " 'Neighborhood_CollgCr',\n",
       " 'Neighborhood_Crawfor',\n",
       " 'Neighborhood_ClearCr',\n",
       " 'Neighborhood_GrnHill',\n",
       " 'Neighborhood_NWAmes',\n",
       " 'Neighborhood_Blmngtn',\n",
       " 'Neighborhood_Gilbert',\n",
       " 'Neighborhood_SawyerW',\n",
       " 'Neighborhood_Greens',\n",
       " 'Neighborhood_Landmrk',\n",
       " 'Neighborhood_Blueste',\n",
       " 'Neighborhood_Mitchel',\n",
       " 'Neighborhood_NPkVill',\n",
       " 'Neighborhood_SWISU',\n",
       " 'Neighborhood_BrDale',\n",
       " 'Neighborhood_MeadowV',\n",
       " 'Neighborhood_BrkSide',\n",
       " 'Neighborhood_Sawyer',\n",
       " 'Neighborhood_Edwards',\n",
       " 'Neighborhood_NAmes',\n",
       " 'Neighborhood_IDOTRR',\n",
       " 'Neighborhood_OldTown']"
      ]
     },
     "execution_count": 56,
     "metadata": {},
     "output_type": "execute_result"
    }
   ],
   "source": [
    "corr = train.corr()\n",
    "sp_corr = corr['SalePrice'].sort_values(ascending=False)\n",
    "\n",
    "neighborhood_index = []\n",
    "fixed_neighborhood_index = []\n",
    "for index in sp_corr.index:\n",
    "    if index[:12] == 'Neighborhood':\n",
    "        neighborhood_index.append(index)\n",
    "        fixed_neighborhood_index.append(index[13:])\n",
    "    \n",
    "neighborhood_index"
   ]
  },
  {
   "cell_type": "code",
   "execution_count": 57,
   "metadata": {
    "scrolled": true
   },
   "outputs": [
    {
     "data": {
      "text/plain": [
       "{'NridgHt': 1.2100000000000002,\n",
       " 'NoRidge': 1.0891268816837283,\n",
       " 'StoneBr': 1.085054674809483,\n",
       " 'Somerst': 1.0183136825762102,\n",
       " 'Timber': 0.9977376717972585,\n",
       " 'Veenker': 0.9776490789555076,\n",
       " 'CollgCr': 0.9771003403519113,\n",
       " 'Crawfor': 0.962767995783561,\n",
       " 'ClearCr': 0.9592647804319795,\n",
       " 'GrnHill': 0.9511494714851217,\n",
       " 'NWAmes': 0.9488033683948136,\n",
       " 'Blmngtn': 0.9428780536094,\n",
       " 'Gilbert': 0.9423160648284659,\n",
       " 'SawyerW': 0.9380307922993228,\n",
       " 'Greens': 0.9302635448190983,\n",
       " 'Landmrk': 0.9209696464036513,\n",
       " 'Blueste': 0.9134852275948301,\n",
       " 'Mitchel': 0.9074578113628265,\n",
       " 'NPkVill': 0.9006853066324207,\n",
       " 'SWISU': 0.8851965134438895,\n",
       " 'BrDale': 0.8731602813393909,\n",
       " 'MeadowV': 0.8639381167496206,\n",
       " 'BrkSide': 0.8522353241072609,\n",
       " 'Sawyer': 0.8514431744798219,\n",
       " 'Edwards': 0.8260689996865802,\n",
       " 'NAmes': 0.8204153895515262,\n",
       " 'IDOTRR': 0.8203739532642687,\n",
       " 'OldTown': 0.81}"
      ]
     },
     "execution_count": 57,
     "metadata": {},
     "output_type": "execute_result"
    }
   ],
   "source": [
    "min_max_scaler = preprocessing.MinMaxScaler()\n",
    "nc_scaled = min_max_scaler.fit_transform(pd.DataFrame(sp_corr[neighborhood_index]))\n",
    "nc_normalized = pd.DataFrame(nc_scaled, index=sp_corr[neighborhood_index].index)\n",
    "neighborhood_map = dict(zip(fixed_neighborhood_index, ((nc_normalized[0]+4.5)/5)**2))\n",
    "neighborhood_map"
   ]
  },
  {
   "cell_type": "code",
   "execution_count": 58,
   "metadata": {},
   "outputs": [],
   "source": [
    "train.replace({'Neighborhood':neighborhood_map},inplace=True)\n",
    "test.replace({'Neighborhood':neighborhood_map},inplace=True)"
   ]
  },
  {
   "cell_type": "code",
   "execution_count": 59,
   "metadata": {},
   "outputs": [],
   "source": [
    "# drop outliers from train data when house size > 4000sqft\n",
    "train = train.drop(train.loc[train.GrLivArea > 4000].index)\n",
    "train = train[np.abs(train.SalePrice-train.SalePrice.mean())<=(3*train.SalePrice.std())]"
   ]
  },
  {
   "cell_type": "markdown",
   "metadata": {},
   "source": [
    "## feature engineering "
   ]
  },
  {
   "cell_type": "code",
   "execution_count": 60,
   "metadata": {},
   "outputs": [],
   "source": [
    "def feature_engineer(df):\n",
    "    df['QualityAdjuster'] = (df['Neighborhood']+1)/2 * ((df['OverallQual']**2))\n",
    "\n",
    "    df['AdjustedSize'] = \\\n",
    "        df['GrLivArea'] * df['QualityAdjuster']\n",
    "\n",
    "    df['BathroomScore'] = \\\n",
    "        (df['FullBath']*2 + df['HalfBath']) * df['QualityAdjuster']\n",
    "\n",
    "    df['GarageScore'] = \\\n",
    "        df['GarageCars'] * df['GarageArea'] \n",
    "    \n",
    "    df['AdjGarageScore'] = \\\n",
    "        df['GarageScore'] * df['QualityAdjuster']\n",
    "    \n",
    "feature_engineer(train)\n",
    "feature_engineer(test)"
   ]
  },
  {
   "cell_type": "markdown",
   "metadata": {},
   "source": [
    "### represent the corrolation of our features with  SalePrice "
   ]
  },
  {
   "cell_type": "code",
   "execution_count": 61,
   "metadata": {
    "scrolled": true
   },
   "outputs": [
    {
     "data": {
      "text/plain": [
       "<matplotlib.axes._subplots.AxesSubplot at 0x1a1b1449e8>"
      ]
     },
     "execution_count": 61,
     "metadata": {},
     "output_type": "execute_result"
    },
    {
     "data": {
      "image/png": "[encoded data removed]",
      "text/plain": [
       "<Figure size 432x288 with 2 Axes>"
      ]
     },
     "metadata": {},
     "output_type": "display_data"
    }
   ],
   "source": [
    "new_features = ['SalePrice','Neighborhood','OverallQual',\n",
    "                'GrLivArea','FullBath','HalfBath',\n",
    "                'GarageCars','QualityAdjuster', 'AdjGarageScore',\n",
    "                'BathroomScore', 'AdjustedSize']\n",
    "\n",
    "corr = train[new_features].corr()\n",
    "\n",
    "sns.heatmap(corr, \n",
    "        xticklabels=corr.columns,\n",
    "        yticklabels=corr.columns)"
   ]
  },
  {
   "cell_type": "markdown",
   "metadata": {},
   "source": [
    "## Regression model"
   ]
  },
  {
   "cell_type": "markdown",
   "metadata": {},
   "source": [
    "target and features selection "
   ]
  },
  {
   "cell_type": "code",
   "execution_count": 62,
   "metadata": {},
   "outputs": [],
   "source": [
    "features = ['QualityAdjuster', 'AdjustedSize', 'BathroomScore',\n",
    "            'AdjGarageScore', 'GrLivArea','GarageType_Detchd',\n",
    "            'MasVnrType_None', 'GarageFinish_Unf', 'BsmtQual_TA',\n",
    "            'KitchenQual_TA', 'ExterQual_TA']\n",
    "\n",
    "X = train[features]\n",
    "y = train['SalePrice']"
   ]
  },
  {
   "cell_type": "code",
   "execution_count": 68,
   "metadata": {
    "scrolled": true
   },
   "outputs": [
    {
     "name": "stdout",
     "output_type": "stream",
     "text": [
      "{'alpha': 0.006}\n",
      "-0.01164716940587307\n"
     ]
    }
   ],
   "source": [
    "\n",
    "# create training and testing vars\n",
    "X_train, X_test, y_train, y_test = train_test_split(X, y, random_state=0)\n",
    "# fit model\n",
    "ss = StandardScaler()\n",
    "ss.fit(X_train)\n",
    "X_train_scaled = ss.transform(X_train)\n",
    "X_test_scaled = ss.transform(X_test)\n",
    "\n",
    "#fitting lasso Regression \n",
    "lasso = Lasso()\n",
    "cross_val_score(lasso, X_train_scaled, y_train).mean()\n",
    "\n",
    "\n",
    "params = {\n",
    "    'alpha': np.arange(.001, .15, .0025)\n",
    "}\n",
    "gs = GridSearchCV(lasso, params)\n",
    "gs.fit(X_train_scaled, y_train)\n",
    "print(gs.best_params_)\n",
    "print(gs.score(X_validate_scaled, y_test))\n",
    "\n",
    "X_test = test[features]\n",
    "X_test_scaled = ss.transform(X_test)\n",
    "\n",
    "predictions = gs.predict(X_test_scaled)\n",
    "\n",
    "test['SalePrice'] = predictions\n",
    "\n",
    "test[['Id', 'SalePrice']].to_csv('reg_submission.csv', index=False)"
   ]
  },
  {
   "cell_type": "markdown",
   "metadata": {},
   "source": [
    "## classification"
   ]
  },
  {
   "cell_type": "code",
   "execution_count": 65,
   "metadata": {},
   "outputs": [
    {
     "name": "stdout",
     "output_type": "stream",
     "text": [
      "{'n_neighbors': 6, 'p': 2, 'weights': 'uniform'}\n",
      "0.9365079365079365\n"
     ]
    },
    {
     "data": {
      "text/html": [
       "<div>\n",
       "<style scoped>\n",
       "    .dataframe tbody tr th:only-of-type {\n",
       "        vertical-align: middle;\n",
       "    }\n",
       "\n",
       "    .dataframe tbody tr th {\n",
       "        vertical-align: top;\n",
       "    }\n",
       "\n",
       "    .dataframe thead th {\n",
       "        text-align: right;\n",
       "    }\n",
       "</style>\n",
       "<table border=\"1\" class=\"dataframe\">\n",
       "  <thead>\n",
       "    <tr style=\"text-align: right;\">\n",
       "      <th></th>\n",
       "      <th>Id</th>\n",
       "      <th>Sale Condition</th>\n",
       "    </tr>\n",
       "  </thead>\n",
       "  <tbody>\n",
       "    <tr>\n",
       "      <th>0</th>\n",
       "      <td>2658</td>\n",
       "      <td>0</td>\n",
       "    </tr>\n",
       "    <tr>\n",
       "      <th>1</th>\n",
       "      <td>2718</td>\n",
       "      <td>0</td>\n",
       "    </tr>\n",
       "    <tr>\n",
       "      <th>2</th>\n",
       "      <td>2414</td>\n",
       "      <td>0</td>\n",
       "    </tr>\n",
       "    <tr>\n",
       "      <th>3</th>\n",
       "      <td>1989</td>\n",
       "      <td>0</td>\n",
       "    </tr>\n",
       "    <tr>\n",
       "      <th>4</th>\n",
       "      <td>625</td>\n",
       "      <td>0</td>\n",
       "    </tr>\n",
       "  </tbody>\n",
       "</table>\n",
       "</div>"
      ],
      "text/plain": [
       "     Id  Sale Condition\n",
       "0  2658               0\n",
       "1  2718               0\n",
       "2  2414               0\n",
       "3  1989               0\n",
       "4   625               0"
      ]
     },
     "execution_count": 65,
     "metadata": {},
     "output_type": "execute_result"
    }
   ],
   "source": [
    "encoded_sale = {\n",
    "    'Abnorml': 1,\n",
    "    'Normal': 0,\n",
    "    'Partial': 0,\n",
    "    'Family':0,\n",
    "    'Alloca':0,\n",
    "    'AdjLand':0\n",
    "}\n",
    "\n",
    "train['SaleConditionEncoded'] = train['SaleCondition'].map(encoded_sale)\n",
    "\n",
    "features = ['QualityAdjuster', 'AdjustedSize',\n",
    "            'BathroomScore', 'AdjGarageScore',\n",
    "            'GrLivArea','GarageType_Detchd', \n",
    "            'MasVnrType_None','GarageFinish_Unf',\n",
    "            'BsmtQual_TA', 'KitchenQual_TA', 'ExterQual_TA']\n",
    "\n",
    "X = train[features]\n",
    "y = train['SaleConditionEncoded']\n",
    "\n",
    "X_train, X_test, y_train, y_test = train_test_split(X, y, random_state=1, stratify=y)\n",
    "\n",
    "ss = StandardScaler()\n",
    "ss.fit(X_train)\n",
    "X_train_scaled = ss.transform(X_train)\n",
    "X_validate_scaled = ss.transform(X_test)\n",
    "\n",
    "## Fitting the Default KNN\n",
    "\n",
    "knn = KNeighborsClassifier()\n",
    "cross_val_score(knn, X_train_scaled, y_train).mean()\n",
    "\n",
    "params = {\n",
    "    'n_neighbors': range(5,30),\n",
    "    'weights': ['uniform', 'distance'],\n",
    "    'p': [1,2]\n",
    "}\n",
    "gs = GridSearchCV(knn, params)\n",
    "gs.fit(X_train_scaled, y_train)\n",
    "print(gs.best_params_)\n",
    "print(gs.score(X_validate_scaled, y_validate))\n",
    "\n",
    "X_test = test[features]\n",
    "X_test_scaled = ss.transform(X_test)\n",
    "\n",
    "predictions = gs.predict(X_test_scaled)\n",
    "\n",
    "test['Sale Condition'] = predictions\n",
    "\n",
    "test[['Id', 'Sale Condition']].to_csv('classification_submission.csv', index=False)\n",
    "\n",
    "df = pd.read_csv('classification_submission.csv')\n",
    "df.head()"
   ]
  },
  {
   "cell_type": "code",
   "execution_count": null,
   "metadata": {},
   "outputs": [],
   "source": []
  }
 ],
 "metadata": {
  "kernelspec": {
   "display_name": "Python 3",
   "language": "python",
   "name": "python3"
  },
  "language_info": {
   "codemirror_mode": {
    "name": "ipython",
    "version": 3
   },
   "file_extension": ".py",
   "mimetype": "text/x-python",
   "name": "python",
   "nbconvert_exporter": "python",
   "pygments_lexer": "ipython3",
   "version": "3.6.5"
  }
 },
 "nbformat": 4,
 "nbformat_minor": 2
}
